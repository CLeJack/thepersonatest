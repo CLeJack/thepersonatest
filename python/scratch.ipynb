{
 "cells": [
  {
   "cell_type": "code",
   "execution_count": null,
   "id": "b153ef63",
   "metadata": {},
   "outputs": [],
   "source": [
    "import os\n",
    "import re\n",
    "from functools import reduce\n",
    "from jinja2 import Environment, FileSystemLoader\n",
    "import json\n",
    "import sys\n",
    "# caution: path[0] is reserved for script path (or '' in REPL)\n",
    "# sys.path.insert(1, './')\n",
    "\n",
    "import persona"
   ]
  },
  {
   "cell_type": "code",
   "execution_count": null,
   "id": "7a5357aa",
   "metadata": {},
   "outputs": [],
   "source": [
    "data = persona.get_data()\n",
    "persona.process_archetype_data(data[0], 'phase1')\n",
    "persona.process_archetype_data(data[1], 'phase2')\n",
    "persona.process_mode_data(data[2],'phase3')"
   ]
  },
  {
   "cell_type": "code",
   "execution_count": null,
   "id": "3a4402ed",
   "metadata": {},
   "outputs": [],
   "source": [
    "data = ''\n",
    "with open('../res/json/phase1.json', 'r') as f:\n",
    "    data = json.loads(f.read())\n",
    "data\n",
    "\n",
    "environment = Environment(loader=FileSystemLoader(\"./templates/\"))\n",
    "template = environment.get_template(\"persona.html\")\n",
    "output = template.render(data=data)"
   ]
  },
  {
   "cell_type": "code",
   "execution_count": null,
   "id": "a457a353",
   "metadata": {},
   "outputs": [],
   "source": [
    "print(output)"
   ]
  },
  {
   "cell_type": "code",
   "execution_count": null,
   "id": "9e3e1318",
   "metadata": {},
   "outputs": [],
   "source": []
  }
 ],
 "metadata": {
  "kernelspec": {
   "display_name": "basepy",
   "language": "python",
   "name": "python3"
  },
  "language_info": {
   "codemirror_mode": {
    "name": "ipython",
    "version": 3
   },
   "file_extension": ".py",
   "mimetype": "text/x-python",
   "name": "python",
   "nbconvert_exporter": "python",
   "pygments_lexer": "ipython3",
   "version": "3.13.3"
  }
 },
 "nbformat": 4,
 "nbformat_minor": 5
}
