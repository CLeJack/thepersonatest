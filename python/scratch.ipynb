{
 "cells": [
  {
   "cell_type": "code",
   "execution_count": 89,
   "id": "b153ef63",
   "metadata": {},
   "outputs": [],
   "source": [
    "import os\n",
    "import re\n",
    "from functools import reduce\n",
    "import json"
   ]
  },
  {
   "cell_type": "code",
   "execution_count": 9,
   "id": "19166d91",
   "metadata": {},
   "outputs": [],
   "source": [
    "data = ''\n",
    "\n",
    "with open('../res/extracts/extended-test.txt','r') as f:\n",
    "    data = f.read()"
   ]
  },
  {
   "cell_type": "code",
   "execution_count": 10,
   "id": "fe15503b",
   "metadata": {},
   "outputs": [
    {
     "data": {
      "text/plain": [
       "[\" 1: SITUATIONAL DILEMMAS\\nQ1. You’re placed in charge of a failing community project. What do you do first?\\n- [Architect] Assess the current system’s weaknesses and begin fixing it.\\n- [Herald] Share the truth of the situation as widely as possible to prompt urgency.\\n- [Keeper] Reaffirm the original mission and remind people why this mattered.\\n- [Shield] Protect the group from blame and outside pressure.\\n- [Synthesizer] Mediate the different voices to understand what’s really going wrong.\\n- [Trickster] Introduce a jarring shift to break stagnation and expose blind spots.\\n- [Weaver] Rebuild trust and connection before addressing logistics.\\n- [Seeker] Suggest stepping away entirely to find a better path elsewhere.\\n- [Spark] Deliver a passionate call to action to reignite purpose.\\n- [Hollow] Observe quietly and avoid getting entangled unless absolutely necessary.\\n\\nQ2. You’re given a powerful tool with no instructions. What do you do?\\n- [Architect] Deconstruct it to reverse-engineer its function.\\n- [Herald] Announce its discovery and speculate publicly about its use.\\n- [Keeper] Compare it to traditional models or historical examples.\\n- [Shield] Safeguard it — its misuse might be dangerous.\\n- [Synthesizer] Cross-reference it with other tools or ideas you've seen.\\n- [Trickster] Try something unexpected to see how it reacts.\\n- [Weaver] Ask others how it makes them feel and what they imagine it could do.\\n- [Seeker] Use it impulsively — the only way to learn is to act.\\n- [Spark] Use it to provoke excitement and momentum.\\n- [Hollow] Set it aside — not everything needs to be used.\\n\\nQ3. A person close to you has started to change in ways you don’t understand. How do you react?\\n- [Architect] Try to analyze the changes rationally and quietly.\\n- [Herald] Speak to them openly — they need to hear how this affects others.\\n- [Keeper] Reference the values or history you’ve shared to reconnect.\\n- [Shield] Stay close and offer protection, even without understanding.\\n- [Synthesizer] Try to see their changes as part of a bigger pattern.\\n- [Trickster] Challenge their assumptions to spark honest discussion.\\n- [Weaver] Show up emotionally and support them where they are.\\n- [Seeker] Respect their transformation and let them evolve freely.\\n- [Spark] Respond with passion — connection is meant to be intense.\\n- [Hollow] Withdraw. People change. You don’t need to follow.\\n\\nQ4. You’re invited into a high-stakes collaboration with unclear power dynamics. How do you approach it?\\n- [Architect] Define clear roles and responsibilities early on.\\n- [Herald] Ask direct questions to clarify what others may avoid saying.\\n- [Keeper] Honor legacy structures and let them guide your behavior.\\n- [Shield] Stay alert for signs of harm or unfair treatment and step in if needed.\\n- [Synthesizer] Study the people involved and find the common thread.\\n- [Trickster] Challenge assumptions subtly to test people’s honesty.\\n- [Weaver] Build trust through one-on-one connections before committing.\\n- [Seeker] Use it as a chance to explore, not control.\\n- [Spark] Assert yourself boldly — your energy is your leverage.\\n- [Hollow] Remain on the fringe, involved but not invested.\\n\\nQ5. A group you're in is spiraling into chaos. What's your natural response?\\n- [Architect] Quietly restructure everything — clarity will stabilize it.\\n- [Herald] Speak openly to cut through confusion.\\n- [Keeper] Remind the group of its purpose and original agreements.\\n- [Shield] Focus on grounding and protecting individuals who are overwhelmed.\\n- [Synthesizer] Map the chaos — there's a pattern inside it.\\n- [Trickster] Amplify the chaos briefly to show what’s broken.\\n- [Weaver] Soothe tensions and rebuild emotional safety.\\n- [Seeker] Let the group fall — maybe it’s not meant to survive.\\n- [Spark] Take charge through sheer presence and intensity.\\n- [Hollow] Detach. Chaos isn’t your responsibility.\\n\\nQ6. You discover a truth that could destabilize something important. What do you do?\\n- [Architect] Weigh the consequences before acting.\\n- [Herald] Share it — people deserve to know, even if it shakes things.\\n- [Keeper] Preserve the system; not all truths need telling.\\n- [Shield] Reveal it only if someone’s safety depends on it.\\n- [Synthesizer] Frame the truth carefully to integrate it without collapse.\\n- [Trickster] Leak it in a way that forces others to confront it.\\n- [Weaver] Tell those affected directly and support them through it.\\n- [Seeker] Take the truth and walk — you don’t owe anyone a fight.\\n- [Spark] Turn it into a rallying cry for change.\\n- [Hollow] Keep it to yourself. Let the truth be your own silence.\\n\\n\",\n",
       " \" 2: IDENTITY REFLECTION\\nQ1. In a group, you tend to:\\n- [Architect] Build systems or processes to help things run smoothly.\\n- [Herald] Identify what no one else is saying and bring it to light.\\n- [Keeper] Preserve group traditions or shared identity.\\n- [Shield] Take care of those who are struggling or vulnerable.\\n- [Synthesizer] Seek to resolve disagreements by revealing hidden common ground.\\n- [Trickster] Subvert groupthink by asking uncomfortable questions.\\n- [Weaver] Strengthen bonds and help people feel seen.\\n- [Seeker] Drift to the edges, always halfway out the door.\\n- [Spark] Inject energy, enthusiasm, or charisma to keep things moving.\\n- [Hollow] Remain silent, curious if the group will notice your absence.\\n\\nQ2. What’s your ideal role in creating change?\\n- [Architect] Designing sustainable, long-term systems.\\n- [Herald] Sparking awareness and sharing uncomfortable truths.\\n- [Keeper] Restoring core values that have been lost.\\n- [Shield] Protecting what matters while others push ahead.\\n- [Synthesizer] Harmonizing competing visions into something coherent.\\n- [Trickster] Disrupting stagnation — even if it causes chaos.\\n- [Weaver] Building relational trust between diverse people.\\n- [Seeker] Rejecting the system entirely and finding new ground.\\n- [Spark] Motivating others through sheer force of passion.\\n- [Hollow] Avoiding involvement. Change can be a trap.\\n\\nQ3. What truth do you most live by?\\n- [Architect] Order creates freedom.\\n- [Herald] Speak what others are afraid to name.\\n- [Keeper] The past holds sacred knowledge.\\n- [Shield] Safety is the precondition for growth.\\n- [Synthesizer] Meaning lives in the overlaps.\\n- [Trickster] Nothing sacred survives scrutiny.\\n- [Weaver] People heal in relationship.\\n- [Seeker] Truth lives outside the map.\\n- [Spark] Feeling is more honest than logic.\\n- [Hollow] Life just is — no narrative required.\\n\\nQ4. When you're at your best, what defines your presence?\\n- [Architect] Structured thinking and calm execution.\\n- [Herald] Insightful disruption — you name what others fear.\\n- [Keeper] Consistency and honor — people can rely on you.\\n- [Shield] Steadiness — others feel safer when you're there.\\n- [Synthesizer] You create bridges where others see walls.\\n- [Trickster] A creative tension that keeps people awake.\\n- [Weaver] Gentle cohesion — you make people feel whole.\\n- [Seeker] Restlessness — you're the horizon in human form.\\n- [Spark] Intensity — your passion sets things alight.\\n- [Hollow] Emptiness — not absence, but freedom from needing to perform.\\n\\nQ5. What’s your relationship to rules?\\n- [Architect] Rules are tools — you refine them as needed.\\n- [Herald] Rules exist to be challenged if they obscure the truth.\\n- [Keeper] Rules embody hard-earned wisdom — they deserve respect.\\n- [Shield] Rules are protection — they keep the weak from harm.\\n- [Synthesizer] Rules are lenses — not fixed, but not meaningless either.\\n- [Trickster] Rules are illusions — their cracks show where to begin.\\n- [Weaver] Rules matter if they hold people together — not otherwise.\\n- [Seeker] Rules are cages — you move best when they break.\\n- [Spark] Rules are kindling — burn them for momentum.\\n- [Hollow] Rules are stories other people tell.\\n\\nQ6. What kind of attention do you prefer?\\n- [Architect] Quiet recognition for long-term impact.\\n- [Herald] Engagement — you want people to wrestle with what you say.\\n- [Keeper] Respect for your constancy and integrity.\\n- [Shield] None, ideally — let your actions speak.\\n- [Synthesizer] Thoughtful curiosity — attention that sees the whole.\\n- [Trickster] Tension — you like people a little off-balance.\\n- [Weaver] Emotional openness — you want to be felt, not just seen.\\n- [Seeker] Distance — attention should never cling.\\n- [Spark] Excitement — you like leaving people charged.\\n- [Hollow] Absence — attention distorts everything.\\n\\n\",\n",
       " \" 3: MODE DETECTION\\nQ7. I feel like I’m actively outgrowing older versions of myself.|Transforming\\nQ8. I feel like I’m living out someone else’s expectations, not my own.|Camouflaged\\nQ9. I feel scattered — like I’m playing different roles in different contexts without a center.|Fragmented\\nQ10. I feel confident in my rhythm — my way of being fits this moment.|Flourishing\\nQ11. I feel like I’m hiding my real strategy because it wouldn’t be accepted here.|Camouflaged\\nQ12. I feel pressure to keep solving things using the same mindset, even when it's not working.|Overextended\\nQ13. I often feel energized, clear, and aligned with what I'm doing.|Flourishing\\nQ14. I’ve locked myself into a pattern that’s no longer working, but I can’t break out of it.|Overextended\\nQ15. I feel like I’ve shut something essential down inside myself to keep going.|Suppressed\\n\"]"
      ]
     },
     "execution_count": 10,
     "metadata": {},
     "output_type": "execute_result"
    }
   ],
   "source": [
    "data = data.split(\"PHASE\")[1:]\n",
    "data"
   ]
  },
  {
   "cell_type": "code",
   "execution_count": 112,
   "id": "f3491667",
   "metadata": {},
   "outputs": [
    {
     "data": {
      "text/plain": [
       "{'title': 'MODE DETECTION',\n",
       " 'items': [{'q': 'I feel like I’m actively outgrowing older versions of myself.',\n",
       "   'id': 'Transforming'},\n",
       "  {'q': 'I feel like I’m living out someone else’s expectations, not my own.',\n",
       "   'id': 'Camouflaged'},\n",
       "  {'q': 'I feel scattered — like I’m playing different roles in different contexts without a center.',\n",
       "   'id': 'Fragmented'},\n",
       "  {'q': 'I feel confident in my rhythm — my way of being fits this moment.',\n",
       "   'id': 'Flourishing'},\n",
       "  {'q': 'I feel like I’m hiding my real strategy because it wouldn’t be accepted here.',\n",
       "   'id': 'Camouflaged'},\n",
       "  {'q': \"I feel pressure to keep solving things using the same mindset, even when it's not working.\",\n",
       "   'id': 'Overextended'},\n",
       "  {'q': \"I often feel energized, clear, and aligned with what I'm doing.\",\n",
       "   'id': 'Flourishing'},\n",
       "  {'q': 'I’ve locked myself into a pattern that’s no longer working, but I can’t break out of it.',\n",
       "   'id': 'Overextended'},\n",
       "  {'q': 'I feel like I’ve shut something essential down inside myself to keep going.',\n",
       "   'id': 'Suppressed'}]}"
      ]
     },
     "execution_count": 112,
     "metadata": {},
     "output_type": "execute_result"
    }
   ],
   "source": [
    "def process_archetype_data(string, filename, ext = '.json', path = '../res/json/'):\n",
    "    items = re.split(\"Q\\\\d\\\\.\",string)\n",
    "    title = re.sub(r'\\d+:* *','',items[0].strip())\n",
    "    items = items[1:]\n",
    "    items = list(map(lambda x:  x.split('\\n'),items))\n",
    "    items = list(map(lambda x: {'q':x[0].strip(), 'a':x[1:]},items))\n",
    "    for m in items:\n",
    "        m['a'] = list(filter(lambda x: not(x==''),m['a']))\n",
    "        m['a']= list(map(lambda x: (x,re.search(r\"- *\\[(\\w+)\\].*\",x).group(1)),m['a']))\n",
    "        m['a'] = list(map(lambda x: {'q':re.sub('- *\\\\[\\\\w+\\\\] *','',x[0]),'id':x[1]},m['a']))\n",
    "\n",
    "    \n",
    "    results = {'title':title,'items':items}\n",
    "    with open(path+filename+ext, 'w') as f:\n",
    "        f.write(json.dumps(results))\n",
    "    return results\n",
    "\n",
    "def process_mode_data(string, filename, ext = '.json', path = '../res/json/'):\n",
    "    items = list(filter(lambda x: not(x==''),string.split('\\n')))\n",
    "    title = re.sub(r'\\d+:* *','',items[0].strip())\n",
    "    items = items[1:]\n",
    "    items = list(map(lambda x: re.sub(r'Q\\d+\\. *','',x), items))\n",
    "    items = list(map(lambda x: x.split('|'), items))\n",
    "    items = list(map(lambda x: {'q':x[0],'id':x[1]}, items))\n",
    "\n",
    "    results = {'title':title,'items':items}\n",
    "    with open(path+filename+ext, 'w') as f:\n",
    "        f.write(json.dumps(results))\n",
    "    return results\n",
    "\n",
    "process_mode_data(data[2],'phase3')\n"
   ]
  },
  {
   "cell_type": "code",
   "execution_count": null,
   "id": "7a5357aa",
   "metadata": {},
   "outputs": [],
   "source": [
    "process_archetype_data(data[0], 'phase1')\n",
    "process_archetype_data(data[1], 'phase2')"
   ]
  },
  {
   "cell_type": "code",
   "execution_count": 97,
   "id": "b7616406",
   "metadata": {},
   "outputs": [
    {
     "data": {
      "text/plain": [
       "\" 3: MODE DETECTION\\nQ7. I feel like I’m actively outgrowing older versions of myself.|Transforming\\nQ8. I feel like I’m living out someone else’s expectations, not my own.|Camouflaged\\nQ9. I feel scattered — like I’m playing different roles in different contexts without a center.|Fragmented\\nQ10. I feel confident in my rhythm — my way of being fits this moment.|Flourishing\\nQ11. I feel like I’m hiding my real strategy because it wouldn’t be accepted here.|Camouflaged\\nQ12. I feel pressure to keep solving things using the same mindset, even when it's not working.|Overextended\\nQ13. I often feel energized, clear, and aligned with what I'm doing.|Flourishing\\nQ14. I’ve locked myself into a pattern that’s no longer working, but I can’t break out of it.|Overextended\\nQ15. I feel like I’ve shut something essential down inside myself to keep going.|Suppressed\\n\""
      ]
     },
     "execution_count": 97,
     "metadata": {},
     "output_type": "execute_result"
    }
   ],
   "source": [
    "data[2]"
   ]
  },
  {
   "cell_type": "code",
   "execution_count": 63,
   "id": "5327babe",
   "metadata": {},
   "outputs": [
    {
     "data": {
      "text/plain": [
       "[[' You’re placed in charge of a failing community project. What do you do first?',\n",
       "  '- [Architect] Assess the current system’s weaknesses and begin fixing it.',\n",
       "  '- [Herald] Share the truth of the situation as widely as possible to prompt urgency.',\n",
       "  '- [Keeper] Reaffirm the original mission and remind people why this mattered.',\n",
       "  '- [Shield] Protect the group from blame and outside pressure.',\n",
       "  '- [Synthesizer] Mediate the different voices to understand what’s really going wrong.',\n",
       "  '- [Trickster] Introduce a jarring shift to break stagnation and expose blind spots.',\n",
       "  '- [Weaver] Rebuild trust and connection before addressing logistics.',\n",
       "  '- [Seeker] Suggest stepping away entirely to find a better path elsewhere.',\n",
       "  '- [Spark] Deliver a passionate call to action to reignite purpose.',\n",
       "  '- [Hollow] Observe quietly and avoid getting entangled unless absolutely necessary.',\n",
       "  '',\n",
       "  ''],\n",
       " [' You’re given a powerful tool with no instructions. What do you do?',\n",
       "  '- [Architect] Deconstruct it to reverse-engineer its function.',\n",
       "  '- [Herald] Announce its discovery and speculate publicly about its use.',\n",
       "  '- [Keeper] Compare it to traditional models or historical examples.',\n",
       "  '- [Shield] Safeguard it — its misuse might be dangerous.',\n",
       "  \"- [Synthesizer] Cross-reference it with other tools or ideas you've seen.\",\n",
       "  '- [Trickster] Try something unexpected to see how it reacts.',\n",
       "  '- [Weaver] Ask others how it makes them feel and what they imagine it could do.',\n",
       "  '- [Seeker] Use it impulsively — the only way to learn is to act.',\n",
       "  '- [Spark] Use it to provoke excitement and momentum.',\n",
       "  '- [Hollow] Set it aside — not everything needs to be used.',\n",
       "  '',\n",
       "  ''],\n",
       " [' A person close to you has started to change in ways you don’t understand. How do you react?',\n",
       "  '- [Architect] Try to analyze the changes rationally and quietly.',\n",
       "  '- [Herald] Speak to them openly — they need to hear how this affects others.',\n",
       "  '- [Keeper] Reference the values or history you’ve shared to reconnect.',\n",
       "  '- [Shield] Stay close and offer protection, even without understanding.',\n",
       "  '- [Synthesizer] Try to see their changes as part of a bigger pattern.',\n",
       "  '- [Trickster] Challenge their assumptions to spark honest discussion.',\n",
       "  '- [Weaver] Show up emotionally and support them where they are.',\n",
       "  '- [Seeker] Respect their transformation and let them evolve freely.',\n",
       "  '- [Spark] Respond with passion — connection is meant to be intense.',\n",
       "  '- [Hollow] Withdraw. People change. You don’t need to follow.',\n",
       "  '',\n",
       "  ''],\n",
       " [' You’re invited into a high-stakes collaboration with unclear power dynamics. How do you approach it?',\n",
       "  '- [Architect] Define clear roles and responsibilities early on.',\n",
       "  '- [Herald] Ask direct questions to clarify what others may avoid saying.',\n",
       "  '- [Keeper] Honor legacy structures and let them guide your behavior.',\n",
       "  '- [Shield] Stay alert for signs of harm or unfair treatment and step in if needed.',\n",
       "  '- [Synthesizer] Study the people involved and find the common thread.',\n",
       "  '- [Trickster] Challenge assumptions subtly to test people’s honesty.',\n",
       "  '- [Weaver] Build trust through one-on-one connections before committing.',\n",
       "  '- [Seeker] Use it as a chance to explore, not control.',\n",
       "  '- [Spark] Assert yourself boldly — your energy is your leverage.',\n",
       "  '- [Hollow] Remain on the fringe, involved but not invested.',\n",
       "  '',\n",
       "  ''],\n",
       " [\" A group you're in is spiraling into chaos. What's your natural response?\",\n",
       "  '- [Architect] Quietly restructure everything — clarity will stabilize it.',\n",
       "  '- [Herald] Speak openly to cut through confusion.',\n",
       "  '- [Keeper] Remind the group of its purpose and original agreements.',\n",
       "  '- [Shield] Focus on grounding and protecting individuals who are overwhelmed.',\n",
       "  \"- [Synthesizer] Map the chaos — there's a pattern inside it.\",\n",
       "  '- [Trickster] Amplify the chaos briefly to show what’s broken.',\n",
       "  '- [Weaver] Soothe tensions and rebuild emotional safety.',\n",
       "  '- [Seeker] Let the group fall — maybe it’s not meant to survive.',\n",
       "  '- [Spark] Take charge through sheer presence and intensity.',\n",
       "  '- [Hollow] Detach. Chaos isn’t your responsibility.',\n",
       "  '',\n",
       "  ''],\n",
       " [' You discover a truth that could destabilize something important. What do you do?',\n",
       "  '- [Architect] Weigh the consequences before acting.',\n",
       "  '- [Herald] Share it — people deserve to know, even if it shakes things.',\n",
       "  '- [Keeper] Preserve the system; not all truths need telling.',\n",
       "  '- [Shield] Reveal it only if someone’s safety depends on it.',\n",
       "  '- [Synthesizer] Frame the truth carefully to integrate it without collapse.',\n",
       "  '- [Trickster] Leak it in a way that forces others to confront it.',\n",
       "  '- [Weaver] Tell those affected directly and support them through it.',\n",
       "  '- [Seeker] Take the truth and walk — you don’t owe anyone a fight.',\n",
       "  '- [Spark] Turn it into a rallying cry for change.',\n",
       "  '- [Hollow] Keep it to yourself. Let the truth be your own silence.',\n",
       "  '',\n",
       "  '']]"
      ]
     },
     "execution_count": 63,
     "metadata": {},
     "output_type": "execute_result"
    }
   ],
   "source": [
    "items = list(map(lambda x:  x.split('\\n'),items))\n",
    "items"
   ]
  },
  {
   "cell_type": "code",
   "execution_count": 73,
   "id": "7705174e",
   "metadata": {},
   "outputs": [
    {
     "data": {
      "text/plain": [
       "'- [Architect] Assess the current system’s weaknesses and begin fixing it.'"
      ]
     },
     "execution_count": 73,
     "metadata": {},
     "output_type": "execute_result"
    }
   ],
   "source": [
    "# re.search(r\"- *\\[(\\w+)\\].*\",items[0][1]).group(1)\n",
    "items[0][1]"
   ]
  },
  {
   "cell_type": "code",
   "execution_count": null,
   "id": "3a4402ed",
   "metadata": {},
   "outputs": [],
   "source": []
  }
 ],
 "metadata": {
  "kernelspec": {
   "display_name": "basepy",
   "language": "python",
   "name": "python3"
  },
  "language_info": {
   "codemirror_mode": {
    "name": "ipython",
    "version": 3
   },
   "file_extension": ".py",
   "mimetype": "text/x-python",
   "name": "python",
   "nbconvert_exporter": "python",
   "pygments_lexer": "ipython3",
   "version": "3.13.3"
  }
 },
 "nbformat": 4,
 "nbformat_minor": 5
}
